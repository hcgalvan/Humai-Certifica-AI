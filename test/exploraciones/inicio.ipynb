{
 "cells": [
  {
   "cell_type": "code",
   "execution_count": null,
   "metadata": {},
   "outputs": [],
   "source": [
    "#dato inicio\n",
    "# Si tienes linux y trabajas con conda\n",
    "# !conda install -n base ipykernel --update-deps --force-reinstall"
   ]
  },
  {
   "cell_type": "code",
   "execution_count": 6,
   "metadata": {},
   "outputs": [
    {
     "name": "stdout",
     "output_type": "stream",
     "text": [
      "Requirement already satisfied: mediapipe in /home/hcgalvan/miniconda3/envs/DSMRPOSE/lib/python3.8/site-packages (0.8.10.1)\n",
      "Requirement already satisfied: opencv-python in /home/hcgalvan/miniconda3/envs/DSMRPOSE/lib/python3.8/site-packages (4.6.0.66)\n",
      "Requirement already satisfied: opencv-contrib-python in /home/hcgalvan/miniconda3/envs/DSMRPOSE/lib/python3.8/site-packages (from mediapipe) (4.7.0.68)\n",
      "Requirement already satisfied: protobuf<4,>=3.11 in /home/hcgalvan/miniconda3/envs/DSMRPOSE/lib/python3.8/site-packages (from mediapipe) (3.20.3)\n",
      "Requirement already satisfied: absl-py in /home/hcgalvan/miniconda3/envs/DSMRPOSE/lib/python3.8/site-packages (from mediapipe) (1.4.0)\n",
      "Requirement already satisfied: numpy in /home/hcgalvan/miniconda3/envs/DSMRPOSE/lib/python3.8/site-packages (from mediapipe) (1.21.5)\n",
      "Requirement already satisfied: attrs>=19.1.0 in /home/hcgalvan/miniconda3/envs/DSMRPOSE/lib/python3.8/site-packages (from mediapipe) (22.2.0)\n",
      "Requirement already satisfied: matplotlib in /home/hcgalvan/miniconda3/envs/DSMRPOSE/lib/python3.8/site-packages (from mediapipe) (3.6.3)\n",
      "Requirement already satisfied: packaging>=20.0 in /home/hcgalvan/miniconda3/envs/DSMRPOSE/lib/python3.8/site-packages (from matplotlib->mediapipe) (23.0)\n",
      "Requirement already satisfied: pillow>=6.2.0 in /home/hcgalvan/miniconda3/envs/DSMRPOSE/lib/python3.8/site-packages (from matplotlib->mediapipe) (9.0.1)\n",
      "Requirement already satisfied: cycler>=0.10 in /home/hcgalvan/miniconda3/envs/DSMRPOSE/lib/python3.8/site-packages (from matplotlib->mediapipe) (0.11.0)\n",
      "Requirement already satisfied: fonttools>=4.22.0 in /home/hcgalvan/miniconda3/envs/DSMRPOSE/lib/python3.8/site-packages (from matplotlib->mediapipe) (4.38.0)\n",
      "Requirement already satisfied: pyparsing>=2.2.1 in /home/hcgalvan/miniconda3/envs/DSMRPOSE/lib/python3.8/site-packages (from matplotlib->mediapipe) (3.0.9)\n",
      "Requirement already satisfied: kiwisolver>=1.0.1 in /home/hcgalvan/miniconda3/envs/DSMRPOSE/lib/python3.8/site-packages (from matplotlib->mediapipe) (1.4.4)\n",
      "Requirement already satisfied: contourpy>=1.0.1 in /home/hcgalvan/miniconda3/envs/DSMRPOSE/lib/python3.8/site-packages (from matplotlib->mediapipe) (1.0.7)\n",
      "Requirement already satisfied: python-dateutil>=2.7 in /home/hcgalvan/miniconda3/envs/DSMRPOSE/lib/python3.8/site-packages (from matplotlib->mediapipe) (2.8.2)\n",
      "Requirement already satisfied: six>=1.5 in /home/hcgalvan/miniconda3/envs/DSMRPOSE/lib/python3.8/site-packages (from python-dateutil>=2.7->matplotlib->mediapipe) (1.16.0)\n"
     ]
    }
   ],
   "source": [
    "!pip install mediapipe opencv-python"
   ]
  },
  {
   "cell_type": "code",
   "execution_count": null,
   "metadata": {},
   "outputs": [
    {
     "name": "stdout",
     "output_type": "stream",
     "text": [
      "Retrieving notices: ...working... done\n",
      "Collecting package metadata (current_repodata.json): done\n",
      "Solving environment: / Solving environment: done\n",
      "done\n",
      "\n",
      "## Package Plan ##\n",
      "\n",
      "  environment location: /home/hcgalvan/miniconda3\n",
      "\n",
      "  added / updated specs:\n",
      "    - _libgcc_mutex\n",
      "    - _openmp_mutex\n",
      "    - asttokens\n",
      "    - backcall\n",
      "    - bzip2\n",
      "    - ca-certificates\n",
      "    - certifi\n",
      "    - comm\n",
      "    - debugpy\n",
      "    - decorator\n",
      "    - entrypoints\n",
      "    - executing\n",
      "    - ipykernel\n",
      "    - ipython\n",
      "    - jedi\n",
      "    - jupyter_client\n",
      "    - jupyter_core\n",
      "    - ld_impl_linux-64\n",
      "    - libffi\n",
      "    - libgcc-ng\n",
      "    - libgomp\n",
      "    - libsodium\n",
      "    - libstdcxx-ng\n",
      "    - libuuid\n",
      "    - matplotlib-inline\n",
      "    - ncurses\n",
      "    - nest-asyncio\n",
      "    - openssl\n",
      "    - packaging\n",
      "    - parso\n",
      "    - pexpect\n",
      "    - pickleshare\n",
      "    - pip\n",
      "    - platformdirs\n",
      "    - prompt-toolkit\n",
      "    - psutil\n",
      "    - ptyprocess\n",
      "    - pure_eval\n",
      "    - pygments\n",
      "    - python-dateutil\n",
      "    - python=3.10\n",
      "    - pyzmq\n",
      "    - readline\n",
      "    - setuptools\n",
      "    - six\n",
      "    - sqlite\n",
      "    - stack_data\n",
      "    - tk\n",
      "    - tornado\n",
      "    - traitlets\n",
      "    - tzdata\n",
      "    - wcwidth\n",
      "    - wheel\n",
      "    - xz\n",
      "    - zeromq\n",
      "    - zlib\n",
      "\n",
      "\n",
      "The following packages will be downloaded:\n",
      "\n",
      "    package                    |            build\n",
      "    ---------------------------|-----------------\n",
      "    asttokens-2.0.5            |     pyhd3eb1b0_0          20 KB\n",
      "    backcall-0.2.0             |     pyhd3eb1b0_0          13 KB\n",
      "    comm-0.1.2                 |  py310h06a4308_0          13 KB\n",
      "    debugpy-1.5.1              |  py310h295c915_0         1.7 MB\n",
      "    decorator-5.1.1            |     pyhd3eb1b0_0          12 KB\n",
      "    entrypoints-0.4            |  py310h06a4308_0          16 KB\n",
      "    executing-0.8.3            |     pyhd3eb1b0_0          18 KB\n",
      "    ipykernel-6.19.2           |  py310h2f386ee_0         220 KB\n",
      "    ipython-8.8.0              |  py310h06a4308_0         1.1 MB\n",
      "    jedi-0.18.1                |  py310h06a4308_1         988 KB\n",
      "    jupyter_client-7.4.8       |  py310h06a4308_0         207 KB\n",
      "    jupyter_core-5.1.1         |  py310h06a4308_0          90 KB\n",
      "    libsodium-1.0.18           |       h7b6447c_0         244 KB\n",
      "    matplotlib-inline-0.1.6    |  py310h06a4308_0          16 KB\n",
      "    nest-asyncio-1.5.6         |  py310h06a4308_0          14 KB\n",
      "    packaging-22.0             |  py310h06a4308_0          69 KB\n",
      "    parso-0.8.3                |     pyhd3eb1b0_0          70 KB\n",
      "    pexpect-4.8.0              |     pyhd3eb1b0_3          53 KB\n",
      "    pickleshare-0.7.5          |  pyhd3eb1b0_1003          13 KB\n",
      "    platformdirs-2.5.2         |  py310h06a4308_0          23 KB\n",
      "    prompt-toolkit-3.0.36      |  py310h06a4308_0         592 KB\n",
      "    psutil-5.9.0               |  py310h5eee18b_0         368 KB\n",
      "    ptyprocess-0.7.0           |     pyhd3eb1b0_2          17 KB\n",
      "    pure_eval-0.2.2            |     pyhd3eb1b0_0          14 KB\n",
      "    pygments-2.11.2            |     pyhd3eb1b0_0         759 KB\n",
      "    python-dateutil-2.8.2      |     pyhd3eb1b0_0         233 KB\n",
      "    pyzmq-23.2.0               |  py310h6a678d5_0        1017 KB\n",
      "    stack_data-0.2.0           |     pyhd3eb1b0_0          22 KB\n",
      "    tornado-6.2                |  py310h5eee18b_0         602 KB\n",
      "    traitlets-5.7.1            |  py310h06a4308_0         203 KB\n",
      "    wcwidth-0.2.5              |     pyhd3eb1b0_0          26 KB\n",
      "    zeromq-4.3.4               |       h2531618_0         331 KB\n",
      "    ------------------------------------------------------------\n",
      "                                           Total:         8.9 MB\n",
      "\n",
      "The following NEW packages will be INSTALLED:\n",
      "\n",
      "  asttokens          pkgs/main/noarch::asttokens-2.0.5-pyhd3eb1b0_0 \n",
      "  backcall           pkgs/main/noarch::backcall-0.2.0-pyhd3eb1b0_0 \n",
      "  comm               pkgs/main/linux-64::comm-0.1.2-py310h06a4308_0 \n",
      "  debugpy            pkgs/main/linux-64::debugpy-1.5.1-py310h295c915_0 \n",
      "  decorator          pkgs/main/noarch::decorator-5.1.1-pyhd3eb1b0_0 \n",
      "  entrypoints        pkgs/main/linux-64::entrypoints-0.4-py310h06a4308_0 \n",
      "  executing          pkgs/main/noarch::executing-0.8.3-pyhd3eb1b0_0 \n",
      "  ipykernel          pkgs/main/linux-64::ipykernel-6.19.2-py310h2f386ee_0 \n",
      "  ipython            pkgs/main/linux-64::ipython-8.8.0-py310h06a4308_0 \n",
      "  jedi               pkgs/main/linux-64::jedi-0.18.1-py310h06a4308_1 \n",
      "  jupyter_client     pkgs/main/linux-64::jupyter_client-7.4.8-py310h06a4308_0 \n",
      "  jupyter_core       pkgs/main/linux-64::jupyter_core-5.1.1-py310h06a4308_0 \n",
      "  libsodium          pkgs/main/linux-64::libsodium-1.0.18-h7b6447c_0 \n",
      "  matplotlib-inline  pkgs/main/linux-64::matplotlib-inline-0.1.6-py310h06a4308_0 \n",
      "  nest-asyncio       pkgs/main/linux-64::nest-asyncio-1.5.6-py310h06a4308_0 \n",
      "  packaging          pkgs/main/linux-64::packaging-22.0-py310h06a4308_0 \n",
      "  parso              pkgs/main/noarch::parso-0.8.3-pyhd3eb1b0_0 \n",
      "  pexpect            pkgs/main/noarch::pexpect-4.8.0-pyhd3eb1b0_3 \n",
      "  pickleshare        pkgs/main/noarch::pickleshare-0.7.5-pyhd3eb1b0_1003 \n",
      "  platformdirs       pkgs/main/linux-64::platformdirs-2.5.2-py310h06a4308_0 \n",
      "  prompt-toolkit     pkgs/main/linux-64::prompt-toolkit-3.0.36-py310h06a4308_0 \n",
      "  psutil             pkgs/main/linux-64::psutil-5.9.0-py310h5eee18b_0 \n",
      "  ptyprocess         pkgs/main/noarch::ptyprocess-0.7.0-pyhd3eb1b0_2 \n",
      "  pure_eval          pkgs/main/noarch::pure_eval-0.2.2-pyhd3eb1b0_0 \n",
      "  pygments           pkgs/main/noarch::pygments-2.11.2-pyhd3eb1b0_0 \n",
      "  python-dateutil    pkgs/main/noarch::python-dateutil-2.8.2-pyhd3eb1b0_0 \n",
      "  pyzmq              pkgs/main/linux-64::pyzmq-23.2.0-py310h6a678d5_0 \n",
      "  stack_data         pkgs/main/noarch::stack_data-0.2.0-pyhd3eb1b0_0 \n",
      "  tornado            pkgs/main/linux-64::tornado-6.2-py310h5eee18b_0 \n",
      "  traitlets          pkgs/main/linux-64::traitlets-5.7.1-py310h06a4308_0 \n",
      "  wcwidth            pkgs/main/noarch::wcwidth-0.2.5-pyhd3eb1b0_0 \n",
      "  zeromq             pkgs/main/linux-64::zeromq-4.3.4-h2531618_0 \n",
      "\n",
      "\n",
      "Proceed ([y]/n)? "
     ]
    }
   ],
   "source": []
  },
  {
   "cell_type": "code",
   "execution_count": 9,
   "metadata": {},
   "outputs": [
    {
     "ename": "ModuleNotFoundError",
     "evalue": "No module named 'cv2'",
     "output_type": "error",
     "traceback": [
      "\u001b[0;31m---------------------------------------------------------------------------\u001b[0m",
      "\u001b[0;31mModuleNotFoundError\u001b[0m                       Traceback (most recent call last)",
      "Cell \u001b[0;32mIn[9], line 1\u001b[0m\n\u001b[0;32m----> 1\u001b[0m \u001b[38;5;28;01mimport\u001b[39;00m \u001b[38;5;21;01mcv2\u001b[39;00m\n\u001b[1;32m      2\u001b[0m \u001b[38;5;28;01mimport\u001b[39;00m \u001b[38;5;21;01mmediapipe\u001b[39;00m \u001b[38;5;28;01mas\u001b[39;00m \u001b[38;5;21;01mmp\u001b[39;00m\n\u001b[1;32m      3\u001b[0m \u001b[38;5;28;01mimport\u001b[39;00m \u001b[38;5;21;01mnumpy\u001b[39;00m \u001b[38;5;28;01mas\u001b[39;00m \u001b[38;5;21;01mnp\u001b[39;00m\n",
      "\u001b[0;31mModuleNotFoundError\u001b[0m: No module named 'cv2'"
     ]
    }
   ],
   "source": [
    "import cv2\n",
    "import mediapipe as mp\n",
    "import numpy as np"
   ]
  },
  {
   "cell_type": "code",
   "execution_count": 2,
   "metadata": {},
   "outputs": [],
   "source": []
  },
  {
   "cell_type": "code",
   "execution_count": null,
   "metadata": {},
   "outputs": [],
   "source": []
  }
 ],
 "metadata": {
  "kernelspec": {
   "display_name": "Python 3 (ipykernel)",
   "language": "python",
   "name": "python3"
  },
  "language_info": {
   "codemirror_mode": {
    "name": "ipython",
    "version": 3
   },
   "file_extension": ".py",
   "mimetype": "text/x-python",
   "name": "python",
   "nbconvert_exporter": "python",
   "pygments_lexer": "ipython3",
   "version": "3.10.7"
  },
  "vscode": {
   "interpreter": {
    "hash": "0bcb0433d6689d83fbb2b13a45198e105457ef147266b3e46a74d12b2924e01c"
   }
  }
 },
 "nbformat": 4,
 "nbformat_minor": 2
}
